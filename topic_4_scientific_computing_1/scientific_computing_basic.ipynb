{
 "cells": [
  {
   "cell_type": "markdown",
   "metadata": {},
   "source": [
    "# Overview\n",
    "The goal of this assignment is a basic introduction into how common tasks like reading and manipulating data, including basic operations like interpolation, array multiplication, filtering, and plotting. The assignment requires the following python packages:\n",
    "- numpy\n",
    "- scipy\n",
    "- matplotlib\n"
   ]
  },
  {
   "cell_type": "markdown",
   "metadata": {},
   "source": [
    "# Read the data\n",
    "Neuroscience experiments typically produce a a variety of signals, often from different data sources with different sampling rates and in a number of different file formats. The goal of this excercise is to read data in four widely-used formats:\n",
    "\n",
    "npy -- numpy file  (numpy load)\n",
    "csv -- text file with comma-seperated values (numpy loadtxt)\n",
    "bin -- binary file  (numpy fromfile)\n",
    "mat -- matlab file (scipy's loadmat function)\n",
    "\n",
    "There are four example files (one for each data format) located in the same directory as this notebook (file names: signal1.npy, signal2.csv, signal3.bin, signal4.mat). Read the data from the different files into numpy arrays. Note that some signals have more than one channel and therefore need to be stored into a matrix. The sampling rates for npy, csv, and bin files are 25 Hz, 100 Hz, and 300 Hz, respectively. All data are double precision (float64 in numpy), start at time 0, and time increases along rows. \n",
    "\n",
    "The binary file contains multiple channels stored as a sequence of bytes. Thus the data must be reshaped into a matrix taking into account the ordering of the values in the array. There are two different ways of writing a 2D array (matrix) into a binary file: row-major order (often called \"C\" order, used in C) or column-major order (Fortran order, used in Fortran and Matlab). The data in the bin file were written in C order. \n",
    "\n",
    "Note that the mat file preserves the ordering of the matrix entries so no further reshaping is needed for this file. However, the resulting matrix will be in Fortran order in memory which is relevant when using numpy functions like ravel(). It might therefore be a good idea to convert the data into a matrix with row-major order. In general, every numpy array has a \"flags\" property showing information about ordering, alignment etc."
   ]
  },
  {
   "cell_type": "code",
   "execution_count": null,
   "metadata": {},
   "outputs": [],
   "source": []
  },
  {
   "cell_type": "markdown",
   "metadata": {},
   "source": [
    "# Interpolate to the same sampling frequency\n",
    "For the analysis it can be extremely useful to resample all data collected in an experiment to the same sampling rate (i.e. same time scale) to be able to compute important quantities like the cross-correlation between the signals. Resampling is a research topic on its own and often it is sufficient to simply interpolate the signals. Scipy has an interpolation function (interp1d) that can be used to interpolate along a single dimension (here: time), even if the array has multiple dimensions (e.g., 2 for a matrix). Use linear interpolation to resample all signals to a sampling rate of 100 Hz. Moreover, collect all data in one matrix **X** with time increasing along rows and channels along columns. Numpy has a number of special functions for this (concatenate, hstack, vstack etc)."
   ]
  },
  {
   "cell_type": "code",
   "execution_count": null,
   "metadata": {},
   "outputs": [],
   "source": []
  },
  {
   "cell_type": "markdown",
   "metadata": {},
   "source": [
    "# Weight the dataset in 4 different ways (and time everything)\n",
    "The person that collected the data found out that the amplifier gains for the different signals were wrong and this need to be accounted for during the analysis. The correct gain factors are:\n",
    "\n",
    "npy file: 1\n",
    "csv file: 2\n",
    "bin file: 3\n",
    "mat file: 4\n",
    "\n",
    "Of course, one could simply apply the correct gain factors when reading the data. However, the goal here is to apply the gain factors to the elements of the full data matrix created in the previous problem to learn about fundamental array concepts like indexing, slicing, and broadcasting. Try to weight the different channels in the following ways:\n",
    "\n",
    "1. **Element-wise:** this will require at least two for loops to apply the gain factors to each matrix element X[i, j] where i is increasing along time dimension and j is the column index. Note that some signals have multiple channels so j+1 might still require the same gain factor as j. An extensive description of numpy array indexing can be found here:\n",
    "https://docs.scipy.org/doc/numpy-1.13.0/reference/arrays.indexing.html.\n",
    "\n",
    "2. **Slicing:** an extension of Python's slicing (e.g., L[:] for lists) to multiple dimensions; this will require at least 1 for loop and will involve the slicing operation *X[:, j] (i.e. all rows for column j)\n",
    "\n",
    "3. **Array multiplication:** weighting the elements of a matrix by the values in a vector is nothing else than basic linear algebra. However, in contrast to Matlab matrix multiplication in numy is slightly different. The results of A * B (where A and B are some matrices with the right dimensions) will not be the dot product but an element-wise multiplication of both matrices (also known as Schur or Hadamard product). The standard dot product is implemented in numpy by the function dot(A, B). In both cases you will have to create a second matrix containing the gain factors in the appropriate order/shape.\n",
    "\n",
    "4. **Broadcasing:** broadcasting is a powerful concept that can considerably simplify operations and make code much more readable. The basic idea is that the dimension(s) of arrays are reshaped for specific operations. There are two different typpes of broadcasting\n",
    "    - Explicit broadcasting: see numpy's broadcast function\n",
    "    - Implicit Broadcasting: see https://docs.scipy.org/doc/numpy/user/basics.broadcasting.html\n",
    "    In this example, broadcasting will allow you to perform the weighting of the data matrix in a single line of code."
   ]
  },
  {
   "cell_type": "code",
   "execution_count": null,
   "metadata": {},
   "outputs": [],
   "source": []
  },
  {
   "cell_type": "markdown",
   "metadata": {},
   "source": [
    "# Filter\n",
    "The relevant information we want to extract from a signal is often in a specific frequency range. For example, to extract local field potentials (LFP) and action potentials (spikes) from electrophysiological neural recordings were usually use the frequency range of 1-100 Hz and 500 - 5000 Hz, respectively. This requires filtering of the signals. Scipy has a number of filter generation and filtering functions (in scipy.signal). Use these functions to filter the data in the matrix **X** (along its time dimension) using 2nd order Butterworth lowpass filter (higher cutoff: 20 Hz) and zero-phase filtering (aka forward-backward filtering). Do not overwrite the original data matrix but save the output to a new matrix Y."
   ]
  },
  {
   "cell_type": "markdown",
   "metadata": {},
   "source": [
    "# Plot\n",
    "Use matplotlib's plotting functions to generate the following figures:\n",
    "\n",
    "1. **Line plots:** plot the all signals (=columns) of X as a function of time (_plot_ function), each in a seperate axes. Add the lowpass filtered signals in Y on top of each corresponding plot (i.e. X[:, i] and Y[[:, i] in the same axes). Use different line colors for both signals. Add x/y axis labels and set 4 ticks on each axis.\n",
    "\n",
    "2. **Scatter plots:** plot the different channels against each other using the _scatter_ plotting function, each in a separate axes. This can be very useful to look at correlations between variables (indeed, the linear fit corresponds to a linear correlation). Moreover, add a diagonal line.\n",
    "\n",
    "3. **Image plots:** plot the whole matrix as a (pseudo-)image (_imshow_ function) in one axes. Try different interpolation modes, e.g., \"bilinear\" and \"nearest\". Moreover, try different color maps, e.g., \"Greys\", \"viridis\" (requires matplotlib version >= 2.0), and \"jet\". The data matrix is what we often call \"tall and skinny\" so it will require to set the aspect ratio (_aspect_ keyword argument).\n",
    "\n",
    "4. **Histogram plots:** plot the distribution of values for each signal as a histogram (__hist__ function), each in a separate axes.\n",
    "\n",
    "**Note:** a figure with different axes (e.g., one for each signal) can convienently be created using matplotlib's __subplots__ function, e.g., \"fig, axarr = plt.subplots(nrows=2 ncols=4)\" will create a figure (fig) and 10 axes (axarr) arranged in a 2 x 4 grid. \"axarr\" is a numpy array so the axes in the upper left corner can be obtained by axarr[0, 0] and the rightmost axes in the first row by axarr[0, 3] (or equivalently axarr[0, -1]). This allows to access the axes in a loop over the columns in **X**. To do so it might be useful to access the axes in \"linear\" order (C order, see above) by using axarr.flat[i].\n",
    "\n",
    "**Another note:** matplotlib has an excellent documentation (https://matplotlib.org/) with even more useful examples (https://matplotlib.org/gallery/index.html)."
   ]
  },
  {
   "cell_type": "code",
   "execution_count": null,
   "metadata": {},
   "outputs": [],
   "source": []
  },
  {
   "cell_type": "markdown",
   "metadata": {},
   "source": [
    "# Save data\n",
    "Finally, save the data matrix **X** in the following data formats:\n",
    "1. numpy array (npy; numpy save)\n",
    "2. csv file (csv; numpy savetxt)\n",
    "3. binary file (bin; numpy tofile)\n",
    "4. mat file (scipy savemat)\n",
    "\n",
    "Make sure not to overwrite the existing data files!"
   ]
  },
  {
   "cell_type": "code",
   "execution_count": null,
   "metadata": {
    "collapsed": true
   },
   "outputs": [],
   "source": []
  }
 ],
 "metadata": {
  "kernelspec": {
   "display_name": "Python 3",
   "language": "python",
   "name": "python3"
  },
  "language_info": {
   "codemirror_mode": {
    "name": "ipython",
    "version": 3
   },
   "file_extension": ".py",
   "mimetype": "text/x-python",
   "name": "python",
   "nbconvert_exporter": "python",
   "pygments_lexer": "ipython3",
   "version": "3.6.4"
  }
 },
 "nbformat": 4,
 "nbformat_minor": 1
}
