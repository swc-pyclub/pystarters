{
 "cells": [
  {
   "cell_type": "markdown",
   "metadata": {},
   "source": [
    "# The need for functions\n"
   ]
  },
  {
   "cell_type": "markdown",
   "metadata": {},
   "source": [
    "This code will take a set of observations and find the mean, median, variance and standard deviation of data set 1"
   ]
  },
  {
   "cell_type": "code",
   "execution_count": null,
   "metadata": {
    "collapsed": true
   },
   "outputs": [],
   "source": [
    "import statistics\n",
    "data1 = [1, 45, 67, 8, 99.2, 60, 3.2, 12]\n",
    "mean_data = statistics.mean(data1)\n",
    "med_data = statistics.median(data1)\n",
    "var_data = statistics.variance(data1)\n",
    "std_data = statistics.stdev(data1)\n",
    "\n",
    "data2 = [56, 78, 55, 12, 1.3, 99.6, 200.5]\n",
    "data3 = [1, 1, 1, 5, 77, 1.2, 4, 2.6]\n",
    "\n",
    "\"\"\"Solution\"\"\"\n",
    "\n",
    "def data_stat_finder(data_set, do_mean=True, do_med=True, do_std=True, do_var=True):\n",
    "    if do_mean:\n",
    "        mean_data = statistics.mean(data_set)\n",
    "    if do_std:\n",
    "        std_data = statistics.stdev(data_set)\n",
    "    if do_var:\n",
    "        var_data = statistics.variance(data_set)\n",
    "    if do_med:\n",
    "        med_data = statistics.median(data_set)\n",
    "    return mean_data, std_data, var_data, med_data\n",
    "\n",
    "print(data_stat_finder(data1))"
   ]
  },
  {
   "cell_type": "markdown",
   "metadata": {},
   "source": [
    "1) Find the mean, median, variance and standard deviation of data sets 2 and 3.\n",
    "\n",
    "2) If you didn't use a function to do this, attempt it using a function. How many lines of code did you save?"
   ]
  },
  {
   "cell_type": "markdown",
   "metadata": {},
   "source": [
    "# Procedures vs functions "
   ]
  },
  {
   "cell_type": "markdown",
   "metadata": {},
   "source": [
    "4) Edit the code below so that things_to_print is returned by the function and assign the returned value to a variable."
   ]
  },
  {
   "cell_type": "code",
   "execution_count": 2,
   "metadata": {},
   "outputs": [
    {
     "name": "stdout",
     "output_type": "stream",
     "text": [
      "This is a silly example function\n",
      "This is a silly example function\n"
     ]
    }
   ],
   "source": [
    "def i_print_things(things_to_print):\n",
    "    print(things_to_print)\n",
    "    \n",
    "print_job = 'This is a silly example function'\n",
    "i_print_things(print_job)\n",
    "\n",
    "\"\"\"Solution\"\"\"\n",
    "\n",
    "def i_return_things(things_to_return):\n",
    "    return(things_to_return)\n",
    "    \n",
    "return_job = 'This is a silly example function'\n",
    "thing_that_was_returned = i_return_things(return_job)\n",
    "print(thing_that_was_returned)"
   ]
  },
  {
   "cell_type": "markdown",
   "metadata": {},
   "source": [
    "5) Write a function that will take two input strings and returns them joined together as one string"
   ]
  },
  {
   "cell_type": "code",
   "execution_count": null,
   "metadata": {
    "collapsed": true
   },
   "outputs": [],
   "source": [
    "def string_joiner(string1, string2):\n",
    "    return '{} {}'.format(string1, string2)\n",
    "\n",
    "print(string_joiner('dogs are', 'pawsome'))"
   ]
  },
  {
   "cell_type": "markdown",
   "metadata": {},
   "source": [
    "# Scope (local vs global variables)"
   ]
  },
  {
   "cell_type": "markdown",
   "metadata": {},
   "source": [
    "6) Why does the following code produce an error? Edit the code so that it prints the correct value for data_mean."
   ]
  },
  {
   "cell_type": "code",
   "execution_count": null,
   "metadata": {
    "collapsed": true
   },
   "outputs": [],
   "source": [
    "import statistics\n",
    "\n",
    "def mean_calculator(data):\n",
    "    data_mean = statistics.mean(data)\n",
    "    \n",
    "data1 = [1, 45, 67, 8, 99.2, 60, 3.2, 12]\n",
    "mean_calculator(data1)\n",
    "print(data_mean)\n",
    "\n",
    "\"\"\"Solution\"\"\"\n",
    "\n",
    "import statistics\n",
    "\n",
    "def mean_calculator(data):\n",
    "    data_mean = statistics.mean(data)\n",
    "    return data_mean\n",
    "\n",
    "data1 = [1, 45, 67, 8, 99.2, 60, 3.2, 12]\n",
    "data_mean1 = mean_calculator(data1)\n",
    "print(data_mean1)\n",
    "\n",
    "\"\"\"You need to use the retrun statement to get things out\n",
    "of the function. Also if you want them to live pas the execution of the\n",
    "function, you need to assign them to a variable\"\"\"\n"
   ]
  },
  {
   "cell_type": "markdown",
   "metadata": {},
   "source": [
    "# Keyword arguments"
   ]
  },
  {
   "cell_type": "markdown",
   "metadata": {},
   "source": [
    "7) You work in a shop. Normally you do trade in pounds (£), but you do accept other currencies. Edit the function below so that it's default is to return the price in pounds but can (if instructed to do so) return the price in other currencies."
   ]
  },
  {
   "cell_type": "code",
   "execution_count": null,
   "metadata": {
    "collapsed": true
   },
   "outputs": [],
   "source": [
    "def price_printer(product, price, currency):\n",
    "    print('The {0} is {1}{2:.2f}'.format(product, currency, price))\n",
    "\n",
    "product1 = 'apple'\n",
    "price1 = 0.6\n",
    "currency1 = '£'\n",
    "price_printer(product1, price1, currency1)\n",
    "# note: the :.2f is specifying that the price should be printed to 2d.p.\n",
    "\n",
    "\"\"\"Solution\"\"\"\n",
    "\n",
    "def price_printer(product, price, currency='£'):\n",
    "    print('The {0} is {1}{2:.2f}'.format(product, currency, price))\n",
    "\n",
    "product1 = 'apple'\n",
    "price1 = 0.6\n",
    "currency1 = '£'\n",
    "price_printer(product1, price1, currency1)\n",
    "price_printer(product1, price1, '$')"
   ]
  },
  {
   "cell_type": "markdown",
   "metadata": {},
   "source": [
    "8a) You have some behavioural data from a ferret doing a 2AFC task. The data consists of 50 trials for several training sessions for one ferret. Trials are 'correct', 'incorrect' or 'missed'. To decide if the ferret should proceed to the next stage of training you decide on criteria of at least 70% correct of the trials that were not missed, and no more than 5 missed trials per session. Write a function that will return 'Continue training' or 'Don't continue training' based on these criteria. Use default arguments to set the criteria."
   ]
  },
  {
   "cell_type": "code",
   "execution_count": null,
   "metadata": {
    "collapsed": true
   },
   "outputs": [],
   "source": [
    "import random\n",
    "\n",
    "# This is just a function that generates ferret training data. No real ferrets were used in the making this exercise.\n",
    "def ferret_data_generator(number_sessions, number_trials, possible_outcomes, performance):\n",
    "    ferret_data = []\n",
    "    for session in range(number_sessions):\n",
    "        ferret_data.append(random.choices(possible_outcomes, weights=performance, k=number_trials))\n",
    "    return ferret_data\n",
    "       \n",
    "# ferret data is a nested list of 5 sessions, each with 50 trials\n",
    "n_sessions = 5\n",
    "n_trials = 50\n",
    "outcomes = ['correct', 'incorrect', 'missed']\n",
    "performance_ratio = [60, 37, 3]\n",
    "\n",
    "ferret1_data = ferret_data_generator(n_sessions, n_trials, outcomes, performance_ratio)\n",
    "\n",
    "\n",
    "\"\"\" Solution \"\"\"\n",
    "def ferret_training_evaluator(training_data, percentage_correct_criterion=70, max_missed_per_session=5):\n",
    "    n_missed_records_per_sessions = [session.count('missed') for session in training_data]\n",
    "    \n",
    "    continue_training = True\n",
    "    if all([e <= max_missed_per_session for e in n_missed_records_per_sessions]):\n",
    "        # Another valid way to do this (the question wasn't clear) is to calculate the percentage correct session-wise\n",
    "        flattened_data = list(trial for session in training_data for trial in session)\n",
    "        n_missed_trials = flattened_data.count('missed')\n",
    "        percentage_correct = flattened_data.count('correct')/(len(flattened_data) - n_missed_trials) * 100\n",
    "        \n",
    "        if percentage_correct >= percentage_correct_criterion:\n",
    "            continue_training = False\n",
    "            \n",
    "    return 'Continue training' if continue_training else \"Don't continue training\"\n",
    "\n",
    "ferret_training_evaluator(ferret1_data)"
   ]
  },
  {
   "cell_type": "markdown",
   "metadata": {},
   "source": [
    "8b) Below is a very simple function. Does it do what you expected? Why does this happen? Why is this a problem? Fix it."
   ]
  },
  {
   "cell_type": "code",
   "execution_count": 1,
   "metadata": {},
   "outputs": [
    {
     "name": "stdout",
     "output_type": "stream",
     "text": [
      "updated observation list: [1, 0.2, 0.6]\n",
      "initial observation list: [1, 0.2, 0.6]\n",
      "updated observation list: [1, 0.2, 0.6]\n",
      "initial observation list: [1]\n"
     ]
    },
    {
     "data": {
      "text/plain": [
       "'\\nThe input is a list which is mutable so when you change current_observations inside the function, it is also changed outside the fucntion.\\n'"
      ]
     },
     "execution_count": 1,
     "metadata": {},
     "output_type": "execute_result"
    }
   ],
   "source": [
    "def cummulative_sum(current_observations=[], new_value=[]):\n",
    "    current_observations += new_value\n",
    "    updated_observations = current_observations\n",
    "    return updated_observations\n",
    "\n",
    "initial_observations = [1]\n",
    "new_values = [0.2, 0.6]\n",
    "updated = cummulative_sum(current_observations=initial_observations, new_value=new_values)\n",
    "print('updated observation list:', updated)\n",
    "print('initial observation list:', initial_observations)\n",
    "\n",
    "\"\"\"Solution\"\"\"\n",
    "\n",
    "def cummulative_sum_fixed(current_observations=[], new_value=[]):\n",
    "    updated_observations = current_observations + new_value\n",
    "    return updated_observations\n",
    "\n",
    "initial_observations = [1]\n",
    "new_values = [0.2, 0.6]\n",
    "updated = cummulative_sum_fixed(current_observations=initial_observations, new_value=new_values)\n",
    "print('updated observation list:', updated)\n",
    "print('initial observation list:', initial_observations)\n",
    "\n",
    "\"\"\"\n",
    "The input is a list which is mutable so when you change current_observations inside the function,\n",
    "it is also changed outside the function.\n",
    "To avoid this, whenever passing arguments to a function, consider using tuples instead of lists.\n",
    "\"\"\""
   ]
  },
  {
   "cell_type": "markdown",
   "metadata": {},
   "source": [
    "# Star arguments"
   ]
  },
  {
   "cell_type": "markdown",
   "metadata": {},
   "source": [
    "9) The ferret training is going very well and now you have trained 3 ferrets. Adapt your function so that it can handle multiple input data sets (hint: star arguments may be useful here)."
   ]
  },
  {
   "cell_type": "code",
   "execution_count": null,
   "metadata": {
    "collapsed": true
   },
   "outputs": [],
   "source": [
    "ferret2_data = ferret_data_generator(sessions, trials, outcomes, [80, 11, 9])\n",
    "ferret3_data = ferret_data_generator(sessions, trials, outcomes, [79, 1, 20])\n",
    "\n",
    "\"\"\"Solution\"\"\"\n",
    "def multi_ferret_training_evaluator(*training_data):\n",
    "    for ferret_data in training_data:\n",
    "        yield ferret_training_evaluator(ferret_data)\n",
    "\n",
    "for result in ferret_training_evaluator(ferret1_data, ferret2_data, ferret3_data):\n",
    "    print(result)"
   ]
  },
  {
   "cell_type": "markdown",
   "metadata": {},
   "source": [
    "10) Write a function that will print the ferret ID (ferret1, ferret2, ferret3) alongside the percentage corrrect and the percentage of missed trials for each ferret. A nice way of doing this is using ** keyword arguments."
   ]
  },
  {
   "cell_type": "code",
   "execution_count": null,
   "metadata": {
    "collapsed": true
   },
   "outputs": [],
   "source": [
    "\"\"\"Solution\"\"\"\n",
    "def ferret_training_evaluator(**training_data):\n",
    "    for ferret_id, ferret_data in training_data.items():\n",
    "        # Another valid way to do this (the question wasn't clear) is to calculate the percentage correct session-wise\n",
    "        flattened_data = [trial for session in ferret_data for trial in session]\n",
    "        n_trials = len(flattened_data)\n",
    "        percentage_missed = flattened_data.count('missed') / n_trials * 100\n",
    "        percentage_correct = flattened_data.count('correct') / n_trials * 100\n",
    "        print('{}: correct = {}%, missed = {}%'\n",
    "              .format(ferret_id, percentage_correct, percentage_missed))\n",
    "\n",
    "ferret_training_evaluator(ferret1=ferret1_data, ferret2=ferret2_data, ferret3=ferret3_data)"
   ]
  },
  {
   "cell_type": "markdown",
   "metadata": {},
   "source": [
    "# Using the features of the IDE\n",
    "You have the following code and realise that the part that reads the data is used often and could become a function.\n",
    "\n",
    "11a) Using the refactoring functionality of pycharm, try to extract this code to a function. HINT: pycharm uses the word *method* because most of the time you are dealing with object oriented code in python and functions inside objects are called methods. However, this works for any function."
   ]
  },
  {
   "cell_type": "code",
   "execution_count": null,
   "metadata": {
    "collapsed": true
   },
   "outputs": [],
   "source": [
    "source_file_path = './resources/test_events.dat'\n",
    "with open(source_file_path, 'r') as input_file:\n",
    "    data = input_file.readlines()\n",
    "    data = [d.strip() for d in data]\n",
    "    data = [[float(n) for n in d.split(',')] for d in data if d]\n",
    "print(data)"
   ]
  },
  {
   "cell_type": "code",
   "execution_count": null,
   "metadata": {
    "collapsed": true
   },
   "outputs": [],
   "source": [
    "\"\"\"Solution\n",
    "Use pycharm: select the code, right click > refactor > extract method\n",
    "To move the function to another file, use right click > refactor > move\n",
    "\"\"\"\n",
    "\n",
    "def read_data(path):\n",
    "    with open(source_file_path, 'r') as input_file:\n",
    "        data = input_file.readlines()\n",
    "        data = [d.strip() for d in data]\n",
    "    return data\n",
    "\n",
    "def read_float_data(path):\n",
    "    data = read_data(path)\n",
    "    data = [[float(n) for n in d.split(',')] for d in data if d]\n",
    "    return data\n",
    "\n",
    "source_file_path = './resources/test_events.dat'\n",
    "print(read_float_data(source_file_path))"
   ]
  },
  {
   "cell_type": "markdown",
   "metadata": {},
   "source": [
    "b) You actually realise that this code deserves 2 functions. Split accordingly (still using the refactoring shortcuts)\n",
    "\n",
    "c) You notice that the functionality in the first function is quite generic and is used in other modules of your project. Deal with this again using the refactoring capabilities of Pycharm."
   ]
  },
  {
   "cell_type": "markdown",
   "metadata": {},
   "source": [
    "# Errors and testing\n"
   ]
  },
  {
   "cell_type": "markdown",
   "metadata": {},
   "source": [
    "12a) Sometimes your code doesn't work and python gives you an error message. The example below is a clear example of such a problem. What is making the error message appear?\n",
    "\n",
    "b) Use 'try' and 'except' to print the string 'oops there was an error' when this type of error occurs. Specifiy in the string what type of error it was"
   ]
  },
  {
   "cell_type": "code",
   "execution_count": 1,
   "metadata": {},
   "outputs": [
    {
     "name": "stdout",
     "output_type": "stream",
     "text": [
      "Voltage calculator failed as the second voltage was 0: division by zero\n",
      "Voltage calculator failed as the second voltage was 0: division by zero\n",
      "Voltage calculator failed as the second voltage was 0: division by zero\n"
     ]
    }
   ],
   "source": [
    "#def voltage_ratio_calculator(v1, v2):\n",
    "#    v_ratio = v1 / v2\n",
    "#    return v_ratio\n",
    "#for voltage1 in range(3):\n",
    "#    for voltage2 in range(2):\n",
    "#        voltage_ratio_calculator(voltage1, voltage2)\n",
    "\n",
    "\"\"\"Solution\"\"\"\n",
    "def voltage_ratio_calculator(v1, v2):\n",
    "    try:\n",
    "        v_ratio = v1 / v2\n",
    "        return v_ratio\n",
    "    except ZeroDivisionError as error:  # Do not catch too wide (e.g. Exception) as you may get more than you can chew\n",
    "        print('Voltage calculator failed as the second voltage was 0; {}'.format(error))\n",
    "        \n",
    "for voltage1 in range(3):\n",
    "    for voltage2 in range(2):\n",
    "        voltage_ratio_calculator(voltage1, voltage2)"
   ]
  },
  {
   "cell_type": "markdown",
   "metadata": {},
   "source": [
    "13)\n",
    "\n",
    "Not all problems are so clear. They may not return built in errors (exceptions). It is good practice to find a way to test if a function does what you want it to do. \n",
    "\n",
    "You have written a function that will check that a user has input a proper email address in a form.\n",
    "You discover that your function is incomplete and decide to add more\n",
    "For example, you want to check that there are no unathorised characters in the email addresses.\n",
    "\n",
    "Write a test function that verifies that your email checking function:\n",
    "  1. accepts valid addresses.\n",
    "  2. rejects invalid addresses.\n",
    "\n",
    "Passing functions to other functions becomes much more useful when using decorators. We'll talk more about these later but the curious can read about them here: http://www.brianholdefehr.com/decorators-and-functional-python\n"
   ]
  },
  {
   "cell_type": "code",
   "execution_count": 1,
   "metadata": {},
   "outputs": [
    {
     "name": "stdout",
     "output_type": "stream",
     "text": [
      "please enter your email addressme@there.com\n",
      "\"me@there.com\" is a valid email address\n"
     ]
    }
   ],
   "source": [
    "email_address = input('please enter your email address')\n",
    "\n",
    "def check_email_address(address):\n",
    "    return len(address) > 0\n",
    "\n",
    "if check_email_address(email_address):\n",
    "    print('\"{}\" is a valid email address'.format(email_address))\n",
    "else:\n",
    "    print('\"{}\" is an invalid email address'.format(email_address))\n",
    "    \n",
    "    "
   ]
  },
  {
   "cell_type": "code",
   "execution_count": 4,
   "metadata": {},
   "outputs": [
    {
     "ename": "AssertionError",
     "evalue": "Address b@d@dress@b@dDom@in shoud fail but didn't",
     "output_type": "error",
     "traceback": [
      "\u001b[0;31m---------------------------------------------------------------------------\u001b[0m",
      "\u001b[0;31mAssertionError\u001b[0m                            Traceback (most recent call last)",
      "\u001b[0;32m<ipython-input-4-60983e0bc093>\u001b[0m in \u001b[0;36m<module>\u001b[0;34m()\u001b[0m\n\u001b[1;32m     14\u001b[0m         \u001b[0;32massert\u001b[0m \u001b[0mcheck_email_address\u001b[0m\u001b[0;34m(\u001b[0m\u001b[0maddress\u001b[0m\u001b[0;34m)\u001b[0m \u001b[0;34m==\u001b[0m \u001b[0mexpected_result\u001b[0m\u001b[0;34m,\u001b[0m \u001b[0;34m\"Address {} shoud {} but didn't\"\u001b[0m\u001b[0;34m.\u001b[0m\u001b[0mformat\u001b[0m\u001b[0;34m(\u001b[0m\u001b[0maddress\u001b[0m\u001b[0;34m,\u001b[0m \u001b[0mexpected_result_str\u001b[0m\u001b[0;34m)\u001b[0m\u001b[0;34m\u001b[0m\u001b[0m\n\u001b[1;32m     15\u001b[0m \u001b[0;34m\u001b[0m\u001b[0m\n\u001b[0;32m---> 16\u001b[0;31m \u001b[0mtest_email_validator\u001b[0m\u001b[0;34m(\u001b[0m\u001b[0;34m)\u001b[0m\u001b[0;34m\u001b[0m\u001b[0m\n\u001b[0m\u001b[1;32m     17\u001b[0m \u001b[0;34m\u001b[0m\u001b[0m\n\u001b[1;32m     18\u001b[0m \"\"\"Of course you now need to modify the email validator so that the\n",
      "\u001b[0;32m<ipython-input-4-60983e0bc093>\u001b[0m in \u001b[0;36mtest_email_validator\u001b[0;34m()\u001b[0m\n\u001b[1;32m     12\u001b[0m     \u001b[0;32mfor\u001b[0m \u001b[0maddress\u001b[0m\u001b[0;34m,\u001b[0m \u001b[0mexpected_result\u001b[0m \u001b[0;32min\u001b[0m \u001b[0mtest_addresses\u001b[0m\u001b[0;34m:\u001b[0m\u001b[0;34m\u001b[0m\u001b[0m\n\u001b[1;32m     13\u001b[0m         \u001b[0mexpected_result_str\u001b[0m \u001b[0;34m=\u001b[0m \u001b[0;34m'succeed'\u001b[0m \u001b[0;32mif\u001b[0m \u001b[0mexpected_result\u001b[0m \u001b[0;32melse\u001b[0m \u001b[0;34m'fail'\u001b[0m\u001b[0;34m\u001b[0m\u001b[0m\n\u001b[0;32m---> 14\u001b[0;31m         \u001b[0;32massert\u001b[0m \u001b[0mcheck_email_address\u001b[0m\u001b[0;34m(\u001b[0m\u001b[0maddress\u001b[0m\u001b[0;34m)\u001b[0m \u001b[0;34m==\u001b[0m \u001b[0mexpected_result\u001b[0m\u001b[0;34m,\u001b[0m \u001b[0;34m\"Address {} shoud {} but didn't\"\u001b[0m\u001b[0;34m.\u001b[0m\u001b[0mformat\u001b[0m\u001b[0;34m(\u001b[0m\u001b[0maddress\u001b[0m\u001b[0;34m,\u001b[0m \u001b[0mexpected_result_str\u001b[0m\u001b[0;34m)\u001b[0m\u001b[0;34m\u001b[0m\u001b[0m\n\u001b[0m\u001b[1;32m     15\u001b[0m \u001b[0;34m\u001b[0m\u001b[0m\n\u001b[1;32m     16\u001b[0m \u001b[0mtest_email_validator\u001b[0m\u001b[0;34m(\u001b[0m\u001b[0;34m)\u001b[0m\u001b[0;34m\u001b[0m\u001b[0m\n",
      "\u001b[0;31mAssertionError\u001b[0m: Address b@d@dress@b@dDom@in shoud fail but didn't"
     ]
    }
   ],
   "source": [
    "\"\"\"Solution\"\"\"\n",
    "\n",
    "def test_email_validator():\n",
    "    test_addresses = (\n",
    "        ('b@d@dress@b@dDom@in', False),\n",
    "        ('good_address@valid_domain.com', True),\n",
    "        (None, False),\n",
    "        ('', False),\n",
    "        ('@domain.com', False),\n",
    "        (42, False)\n",
    "    )\n",
    "    for address, expected_result in test_addresses:\n",
    "        expected_result_str = 'succeed' if expected_result else 'fail'\n",
    "        assert check_email_address(address) == expected_result, \"Address {} shoud {} but didn't\".format(address, expected_result_str)\n",
    "        \n",
    "test_email_validator()\n",
    "        \n",
    "\"\"\"Of course you now need to modify the email validator so that the\n",
    "test function passes\"\"\""
   ]
  },
  {
   "cell_type": "markdown",
   "metadata": {},
   "source": [
    "    a Write a function that will calculate the sample variance of some data (don't use an statistics.variance).\n",
    "\n",
    "    b Use statistics.variance to test that your function works and gives correct answers.\n",
    "\n",
    "    c Write a function that generates random multiples of 3 between 3 and 99.\n",
    "\n",
    "    d Test this function to make sure that the outputs are divisible by three.\n",
    "\n",
    "Save your test code (and test inputs and outputs). We will use these later in the course."
   ]
  },
  {
   "cell_type": "code",
   "execution_count": 21,
   "metadata": {
    "collapsed": true
   },
   "outputs": [],
   "source": [
    "\"\"\"Solution for part a\"\"\"\n",
    "import statistics\n",
    "\n",
    "def sample_variance_calculator(input_dataset):\n",
    "    \"\"\"\n",
    "     Calculates the sample variance of the input dataset using unbiased estimator formula.\n",
    "     \n",
    "    :param tuple input_dataset: The data for which you want the sample varaince\n",
    "    :return: sample variance of input_dataset\n",
    "    :rtype: float\n",
    "    \"\"\"\n",
    "    sample_mean = statistics.mean(input_dataset)\n",
    "    sample_variance = 1/(len(input_dataset) - 1)*sum([(data_point - sample_mean)**2 for data_point in input_dataset])\n",
    "    return sample_variance"
   ]
  },
  {
   "cell_type": "code",
   "execution_count": 24,
   "metadata": {},
   "outputs": [
    {
     "name": "stdout",
     "output_type": "stream",
     "text": [
      "The desired output was 18.663536666666666 and the function produced 18.66353666666667\n"
     ]
    }
   ],
   "source": [
    "\"\"\"\n",
    "Solution for part b\n",
    "There are many ways to do this. This is just one simple way.\n",
    "\"\"\"\n",
    "\n",
    "def function_tester(function_to_be_tested, function_input, desired_output):\n",
    "    function_output = function_to_be_tested(function_input)\n",
    "    print('The desired output was {} and the function produced {}'.format(desired_output, function_output))\n",
    "\n",
    "test_input = (0.23, 3.6, 7.8, 1.34, 0.1, 10.5)\n",
    "function_tester(sample_variance_calculator, test_input, statistics.variance(test_input))"
   ]
  },
  {
   "cell_type": "code",
   "execution_count": 4,
   "metadata": {},
   "outputs": [],
   "source": [
    "\"\"\"Solution for part c\"\"\"\n",
    "import random\n",
    "\n",
    "def random_multiple_of_3_generator(min_val=3, max_val=99):\n",
    "    random_num = random.randint(min_val, max_val//3)\n",
    "    random_multiple_of_3 = 3 * random_num\n",
    "    return random_multiple_of_3"
   ]
  },
  {
   "cell_type": "code",
   "execution_count": 7,
   "metadata": {},
   "outputs": [
    {
     "name": "stdout",
     "output_type": "stream",
     "text": [
      "The output was 18, which is a multiple of 3\n"
     ]
    },
    {
     "ename": "MultipleException",
     "evalue": "ERROR: The output was 2, which is NOT a multiple of 3",
     "output_type": "error",
     "traceback": [
      "\u001b[0;31m---------------------------------------------------------------------------\u001b[0m",
      "\u001b[0;31mMultipleException\u001b[0m                         Traceback (most recent call last)",
      "\u001b[0;32m<ipython-input-7-4621a4a78741>\u001b[0m in \u001b[0;36m<module>\u001b[0;34m()\u001b[0m\n\u001b[1;32m     17\u001b[0m \u001b[0;34m\u001b[0m\u001b[0m\n\u001b[1;32m     18\u001b[0m \u001b[0mmultiple_tester\u001b[0m\u001b[0;34m(\u001b[0m\u001b[0mrandom_multiple_of_3_generator\u001b[0m\u001b[0;34m)\u001b[0m\u001b[0;34m\u001b[0m\u001b[0m\n\u001b[0;32m---> 19\u001b[0;31m \u001b[0mmultiple_tester\u001b[0m\u001b[0;34m(\u001b[0m\u001b[0mnot_a_multiple_of_3_generator\u001b[0m\u001b[0;34m)\u001b[0m\u001b[0;34m\u001b[0m\u001b[0m\n\u001b[0m",
      "\u001b[0;32m<ipython-input-7-4621a4a78741>\u001b[0m in \u001b[0;36mmultiple_tester\u001b[0;34m(function_to_be_tested, multiple)\u001b[0m\n\u001b[1;32m     11\u001b[0m         \u001b[0mprint\u001b[0m\u001b[0;34m(\u001b[0m\u001b[0;34m'The output was {}, which is a multiple of {}'\u001b[0m\u001b[0;34m.\u001b[0m\u001b[0mformat\u001b[0m\u001b[0;34m(\u001b[0m\u001b[0mfunction_output\u001b[0m\u001b[0;34m,\u001b[0m \u001b[0mmultiple\u001b[0m\u001b[0;34m)\u001b[0m\u001b[0;34m)\u001b[0m\u001b[0;34m\u001b[0m\u001b[0m\n\u001b[1;32m     12\u001b[0m     \u001b[0;32melse\u001b[0m\u001b[0;34m:\u001b[0m\u001b[0;34m\u001b[0m\u001b[0m\n\u001b[0;32m---> 13\u001b[0;31m         \u001b[0;32mraise\u001b[0m \u001b[0mMultipleException\u001b[0m\u001b[0;34m(\u001b[0m\u001b[0;34m'ERROR: The output was {}, which is NOT a multiple of {}'\u001b[0m\u001b[0;34m.\u001b[0m\u001b[0mformat\u001b[0m\u001b[0;34m(\u001b[0m\u001b[0mfunction_output\u001b[0m\u001b[0;34m,\u001b[0m \u001b[0mmultiple\u001b[0m\u001b[0;34m)\u001b[0m\u001b[0;34m)\u001b[0m\u001b[0;34m\u001b[0m\u001b[0m\n\u001b[0m\u001b[1;32m     14\u001b[0m \u001b[0;34m\u001b[0m\u001b[0m\n\u001b[1;32m     15\u001b[0m \u001b[0;32mdef\u001b[0m \u001b[0mnot_a_multiple_of_3_generator\u001b[0m\u001b[0;34m(\u001b[0m\u001b[0;34m)\u001b[0m\u001b[0;34m:\u001b[0m\u001b[0;34m\u001b[0m\u001b[0m\n",
      "\u001b[0;31mMultipleException\u001b[0m: ERROR: The output was 2, which is NOT a multiple of 3"
     ]
    }
   ],
   "source": [
    "\"\"\"\n",
    "Solution for part d\n",
    "Again, many ways to do this.\n",
    "\"\"\"\n",
    "class MultipleException(Exception):\n",
    "    pass\n",
    "\n",
    "def multiple_tester(function_to_be_tested, multiple=3):\n",
    "    function_output = function_to_be_tested()\n",
    "    if function_output % multiple == 0:\n",
    "        print('The output was {}, which is a multiple of {}'.format(function_output, multiple))\n",
    "    else:\n",
    "        raise MultipleException('ERROR: The output was {}, which is NOT a multiple of {}'.format(function_output, multiple))\n",
    "\n",
    "def not_a_multiple_of_3_generator():\n",
    "    return 2\n",
    "\n",
    "multiple_tester(random_multiple_of_3_generator)\n",
    "multiple_tester(not_a_multiple_of_3_generator)"
   ]
  },
  {
   "cell_type": "markdown",
   "metadata": {
    "collapsed": true
   },
   "source": [
    "# Documenting your code"
   ]
  },
  {
   "cell_type": "markdown",
   "metadata": {},
   "source": [
    "14a) document the following function assuming that b is an integer"
   ]
  },
  {
   "cell_type": "code",
   "execution_count": null,
   "metadata": {
    "collapsed": true
   },
   "outputs": [],
   "source": [
    "def a_to_the_power_b(a, b):\n",
    "    power_result = a**b\n",
    "    return power_result"
   ]
  },
  {
   "cell_type": "code",
   "execution_count": 2,
   "metadata": {
    "collapsed": true
   },
   "outputs": [],
   "source": [
    "def a_to_the_power_b(a, b):\n",
    "    \"\"\"\n",
    "    Raises a to the power of b.\n",
    "    a and b are expected to be integers.\n",
    "\n",
    "    :param int a: The mantissa\n",
    "    :param int b: The exponent\n",
    "    :return: a raised to the power b\n",
    "    :rtype: int\n",
    "    \"\"\"\n",
    "    power_result = a**b\n",
    "    return power_result"
   ]
  },
  {
   "cell_type": "markdown",
   "metadata": {},
   "source": [
    "b) Try to visualise this documentation in pycharm using the quick documentation tool\n",
    "Solution: Use your function, then click on the function name, Select in the top menu view > quick documentation. Note the shortcut, it will come in handy.\n",
    "\n",
    "c) Add a test for 3^2 and 1^1 in your docstring"
   ]
  },
  {
   "cell_type": "code",
   "execution_count": 3,
   "metadata": {},
   "outputs": [
    {
     "data": {
      "text/plain": [
       "TestResults(failed=0, attempted=2)"
      ]
     },
     "execution_count": 3,
     "metadata": {},
     "output_type": "execute_result"
    }
   ],
   "source": [
    "\"\"\"\n",
    "This is called a doctest. It is one of the numerous ways to automatically test\n",
    "code in python. it works for simple functions and can provide documentation\n",
    "\"\"\"\n",
    "\n",
    "def a_to_the_power_b(a, b):\n",
    "    \"\"\"\n",
    "    Raises a to the power of b.\n",
    "    a and b are expected to be integers.\n",
    "    \n",
    "    >>> a_to_the_power_b(3, 2)\n",
    "    9\n",
    "    >>> a_to_the_power_b(1, 1)\n",
    "    1\n",
    "\n",
    "    :param int a: The mantissa\n",
    "    :param b: The exponent\n",
    "    :return: a raised to the power b\n",
    "    :rtype: int\n",
    "    \"\"\"\n",
    "    power_result = a**b\n",
    "    return power_result\n",
    "\n",
    "import doctest\n",
    "doctest.testmod()  # This is required only in jupyter, a proper IDE can automatically test for doctest"
   ]
  },
  {
   "cell_type": "markdown",
   "metadata": {},
   "source": [
    "d) If not done yet, ensure that you specified the argument and return types above"
   ]
  },
  {
   "cell_type": "markdown",
   "metadata": {
    "collapsed": true
   },
   "source": [
    "# Long exercise"
   ]
  },
  {
   "cell_type": "markdown",
   "metadata": {},
   "source": [
    "You have inherited the following code from a previous student in your lab. \n",
    "This code takes a file as input that contains the description of a neuron's morphology. Each time the user clicks a point, it adds the segment corresponding to the piece of dendrite followed using the currently set dendrite diameter as diameter of this segment. The program reads this file and computes the volume of the neuron. You would like to extend it to measure the total dendritic length but first, you have decided that to extend code, you first need to make it clean. Try to make it the cleanest and most modular possible using what you have learned above.\n",
    "\n",
    "HINT: you may want to think about the *module* part of modular.\n",
    "\n",
    "What are the benefits ?"
   ]
  },
  {
   "cell_type": "code",
   "execution_count": 45,
   "metadata": {},
   "outputs": [
    {
     "name": "stdout",
     "output_type": "stream",
     "text": [
      "256.35157221701616\n"
     ]
    }
   ],
   "source": [
    "\"\"\"Ideally the functions would be in seperate files, grouped by funtionality \n",
    "(file_io.py, geometry.py, tree_geometry.py)\n",
    "but we can't do this in jupyter. Make these files in Pycharm and import the functions from the appropriate modules.\"\"\"\n",
    "\n",
    "\"\"\" File io module \"\"\"\n",
    "def read_data_file(file_path):\n",
    "    with open(file_path, 'r') as data_file:\n",
    "        data = data_file.readlines()\n",
    "        data = [d.strip() for d in data]\n",
    "    return data\n",
    "\n",
    "\n",
    "def read_ints_from_data_file(file_path, skip_header=False, split_char=','):\n",
    "    \"\"\"\n",
    "    This is an example. In real life, you would use pandas for this.\n",
    "    \"\"\"\n",
    "    data = read_data_file(file_path)\n",
    "    if skip_header:\n",
    "        data = data[1:]\n",
    "    out = []\n",
    "    for line in data:\n",
    "        out.append([int(c) for c in line.split(split_char)])\n",
    "    return out\n",
    "\n",
    "\n",
    "\"\"\" Geometry module \"\"\"\n",
    "import math\n",
    "\n",
    "\n",
    "def get_disc_area(diameter):\n",
    "    radius = diameter / 2.0\n",
    "    return math.pi * radius**2\n",
    "\n",
    "\n",
    "def get_cylinder_volume(p1, p2, diameter):\n",
    "    disc_area = get_disc_area(diameter)\n",
    "    return disc_area * get_euclidian_distance(p1, p2)\n",
    "\n",
    "\n",
    "def get_euclidian_distance(p1, p2):\n",
    "    if len(p1) != len(p2):\n",
    "        raise ValueError('point1 and point2 should have the same number of elements. Got {}'.\n",
    "                        format(p1, p2))\n",
    "    n_dims = len(p1)\n",
    "    return math.sqrt(sum([(p2[i] - p1[i])**2 for i in range(n_dims)]))\n",
    "\n",
    "\n",
    "\"\"\" Tree geometry module uncomment the following 2 lines\n",
    "if in separate module\"\"\"\n",
    "# from file_io import read_ints_from_data_file\n",
    "# from geometry import get_cylinder_volume\n",
    "\n",
    "\n",
    "def parse_diameter_and_point(line):\n",
    "    \"\"\"\n",
    "    This extracts the diameter and point (x, y, z) variables from\n",
    "    a line in our file\n",
    "    \n",
    "    The file has this format:\n",
    "    index, x, y, z, diameter\n",
    "    \n",
    "    This is here because this format is very specific of this particular\n",
    "    file\n",
    "    \"\"\"\n",
    "    point = line[1:4]\n",
    "    diameter = line[-1]\n",
    "    return diameter, point\n",
    "\n",
    "\n",
    "def get_dendrite_volume_from_file(file_path):\n",
    "    \"\"\"\n",
    "    This will read a 'dendrite' file with the following format:\n",
    "    index, x, y, z, diameter\n",
    "    and extract the values to compute the total volume \n",
    "    by summing up the various segments.\n",
    "    \"\"\"\n",
    "    data = read_ints_from_data_file(file_path, skip_header=True)\n",
    "    total_dendrite_volume = 0\n",
    "    for i in range(1, len(data)-1):\n",
    "        line1 = data[i]\n",
    "        _, point1 = parse_diameter_and_point(line1)\n",
    "\n",
    "        line2 = data[i+1]\n",
    "        diameter2, point2 = parse_diameter_and_point(line2)\n",
    "        # print(point1, point2)\n",
    "        total_dendrite_volume += get_cylinder_volume(point1, point2, diameter2)\n",
    "    return total_dendrite_volume\n",
    "\n",
    "\n",
    "print(get_dendrite_volume_from_file('./resources/neuron_a_38.txt'))"
   ]
  },
  {
   "cell_type": "markdown",
   "metadata": {
    "collapsed": true
   },
   "source": [
    "# Python error messages\n",
    "Analyse the tracebacks below and describe the error and ways to fix them"
   ]
  },
  {
   "cell_type": "markdown",
   "metadata": {},
   "source": [
    "```python\n",
    "python pyper/gui/tracking_gui.py \n",
    "Traceback (most recent call last):\n",
    "  File \"pyper/gui/tracking_gui.py\", line 18, in <module>\n",
    "    from pyper.video.transcoder import TranscoderIface\n",
    "  File \"/home/user/code/pyper_dev/pyper/video/transcoder.py\", line 12, in <module>\n",
    "    import numpy as np\n",
    "ImportError: No module named numpy\n",
    "```"
   ]
  },
  {
   "cell_type": "markdown",
   "metadata": {
    "collapsed": true
   },
   "source": [
    "### Solution\n",
    "Look at the last line, numpy cannot be found. It is probably not installed on the system."
   ]
  },
  {
   "cell_type": "markdown",
   "metadata": {
    "collapsed": true
   },
   "source": [
    "```python\n",
    "Traceback (most recent call last):\n",
    "  File \"/home/user/code/pyper_dev/pyper/gui/tabs_interfaces.py\", line 200, in load\n",
    "    self.stream = VStream(self.params.src_path, 0, 1)\n",
    "  File \"/home/user/code/pyper_dev/pyper/video/video_stream.py\", line 417, in __init__\n",
    "    tmp_capture = VideoCapture(file_path)\n",
    "  File \"/home/user/code/pyper_dev/pyper/cv_wrappers/video_capture.py\", line 46, in __init__\n",
    "    raise VideoCaptureOpenError(\"Could not open file {} for reading; {}\".format(filename_or_cam, err))\n",
    "pyper.cv_wrappers.video_capture.VideoCaptureOpenError: Could not open file /tmp/teleporter.h264 for reading; [Errno 13] Permission denied: '/tmp/teleporter.h264'\n",
    "Aborted (core dumped)\n",
    "```"
   ]
  },
  {
   "cell_type": "markdown",
   "metadata": {},
   "source": [
    "This one is special and a bit more difficult. Can you tell why ?"
   ]
  },
  {
   "cell_type": "markdown",
   "metadata": {
    "collapsed": true
   },
   "source": [
    "### Solution\n",
    "There is the aborted core dump message. This is because the error triggered an issue in a C/C++ library.\n",
    "The message is still clear though. We do not have the permission for the file we are trying to load."
   ]
  },
  {
   "cell_type": "markdown",
   "metadata": {},
   "source": [
    "```python\n",
    "Traceback (most recent call last):\n",
    "  File \"/home/user/code/pyper_dev/pyper/gui/image_providers.py\", line 45, in requestPixmap\n",
    "    qimg, qSize = self.requestImage(id, qSize)\n",
    "  File \"/home/user/code/pyper_dev/pyper/gui/image_providers.py\", line 54, in requestImage\n",
    "    qimg = self.getBaseImg(size)\n",
    "  File \"/home/user/code/pyper_dev/pyper/gui/image_providers.py\", line 114, in getBaseImg\n",
    "    img = self._stream.read()\n",
    "  File \"/home/user/code/pyper_dev/pyper/gui/gui_tracker.py\", line 47, in read\n",
    "    result = self.track_frame(record=self.record, requested_output=self.ui_iface.output_type)\n",
    "  File \"/home/user/code/pyper_dev/pyper/tracking/tracking.py\", line 256, in track_frame\n",
    "    print('Error with video_stream at frame {}: \\n{}'.format(fid, e))\n",
    "UnboundLocalError: local variable 'fid' referenced before assignment\n",
    "Aborted (core dumped)\n",
    "```"
   ]
  },
  {
   "cell_type": "markdown",
   "metadata": {
    "collapsed": true
   },
   "source": [
    "Again the last line is quite explicit. We are trying to access a variable 'fid' before assignemnt. This means that the variable is created in a conditional statement that has not been executed before we try and use it."
   ]
  },
  {
   "cell_type": "markdown",
   "metadata": {},
   "source": [
    "# Return/ yield"
   ]
  },
  {
   "cell_type": "markdown",
   "metadata": {},
   "source": [
    "It can be useful to return results of a computation on the fly rather than at the end of a function. For this we can use the keyword 'yield' instead of 'return'.\n",
    "\n",
    "Run the cell below:"
   ]
  },
  {
   "cell_type": "code",
   "execution_count": 15,
   "metadata": {},
   "outputs": [
    {
     "name": "stdout",
     "output_type": "stream",
     "text": [
      "generator started\n",
      "2\n",
      "<class 'function'>\n",
      "<class 'int'>\n"
     ]
    }
   ],
   "source": [
    "def search(search_list, search_value):\n",
    "    print('generator started')\n",
    "    for a in search_list:\n",
    "        if a == search_value:\n",
    "            print(a)\n",
    "            return a\n",
    "        \n",
    "list_for_searching = (0, 4, 6, 2, 9)\n",
    "val = 2\n",
    "the_generator = search(list_for_searching, val)\n",
    "print(type(search))\n",
    "print(type(the_generator))"
   ]
  },
  {
   "cell_type": "markdown",
   "metadata": {},
   "source": [
    "Now run the following cell. What is different? Why?"
   ]
  },
  {
   "cell_type": "code",
   "execution_count": 17,
   "metadata": {},
   "outputs": [
    {
     "name": "stdout",
     "output_type": "stream",
     "text": [
      "<class 'function'>\n",
      "<class 'generator'>\n",
      "generator started\n",
      "2\n"
     ]
    }
   ],
   "source": [
    "def search(search_list, search_value):\n",
    "    print('generator started')\n",
    "    for a in search_list:\n",
    "        if a == search_value:\n",
    "            print(a)\n",
    "            yield a\n",
    "            \n",
    "list_for_searching = (0, 4, 6, 2, 9)\n",
    "val = 2\n",
    "the_generator = search(list_for_searching, val)\n",
    "print(type(search))\n",
    "print(type(the_generator))\n",
    "\n",
    "\"\"\"Solution\"\"\"\n",
    "for v in the_generator:\n",
    "    pass"
   ]
  },
  {
   "cell_type": "markdown",
   "metadata": {},
   "source": [
    "## Explaination\n",
    "The difference is that the line\n",
    "```python\n",
    "the_generator = search(list_for_searching, val)\n",
    "```\n",
    "does not execute the body of the generator until we try iterating over it (which we are not doing here). The last 2 lines will now thus print what we expect."
   ]
  },
  {
   "cell_type": "markdown",
   "metadata": {},
   "source": [
    "Read this about generators and the 'yield' keyword and write some code that will search through the folder of tissue vision files we gave you in assignment 1 ('/resources/tissue_vision_files/') looking for files with the date 02162018. Make each filename be printed as it is found by the search.\n",
    "\n",
    "https://www.pythoncentral.io/python-generators-and-yield-keyword/"
   ]
  },
  {
   "cell_type": "code",
   "execution_count": 9,
   "metadata": {
    "collapsed": true
   },
   "outputs": [],
   "source": [
    "import os\n",
    "source_folder = './resources/tissue_vision_files/'  # Amend as required\n",
    "\n",
    "source_folder = os.path.normpath(source_folder)  # Will make it work regardless of platform\n",
    "file_names_list = os.listdir(source_folder)\n",
    "file_names_list = [f for f in file_names_list if f.endswith('.tif')]\n",
    "start, end = 100, 200\n",
    "n_channels = 3\n",
    "\n",
    "\"\"\"\n",
    "def rename_file(src_filename):\n",
    "    date, time, rest = filename.split('-')\n",
    "    index, channel_with_extension = rest.split('_')\n",
    "    new_filename = '{}-{}-{}_{}'.format(date, time, str(index).zfill(4), channel_with_extension)\n",
    "\"\"\"\n",
    "\n",
    "for channel in range(n_channels):\n",
    "    channels_file_names = file_names_list[channel::n_channels]\n",
    "    desired_channel_file_names = channels_file_names[start:end]\n",
    "    \"\"\"The issue with these filenames is the lack of padding which prevents alphabetical sorting\n",
    "    To remedy this, one could use str.zfill to implement zero padding.\n",
    "    \n",
    "    to do it, uncomment the function above and insert the following line below:\n",
    "    desired_channel_file_names = [rename_file(f) for f in desired_channel_file_names]\n",
    "    \"\"\"\n",
    "    modified_channel_file_names = [f.replace('.tif', '_modified.tif') for f in desired_channel_file_names]\n"
   ]
  },
  {
   "cell_type": "code",
   "execution_count": 10,
   "metadata": {},
   "outputs": [
    {
     "name": "stdout",
     "output_type": "stream",
     "text": [
      "generator started\n",
      "02162018-1620-190_03_modified.tif\n",
      "02162018-1620-191_03_modified.tif\n",
      "02162018-1620-192_03_modified.tif\n",
      "02162018-1620-193_03_modified.tif\n",
      "02162018-1620-194_03_modified.tif\n",
      "02162018-1620-195_03_modified.tif\n",
      "02162018-1620-196_03_modified.tif\n",
      "02162018-1620-197_03_modified.tif\n",
      "02162018-1620-198_03_modified.tif\n",
      "02162018-1620-199_03_modified.tif\n",
      "02162018-1620-19_03_modified.tif\n",
      "02162018-1620-1_03_modified.tif\n",
      "02162018-1620-200_03_modified.tif\n",
      "02162018-1620-201_03_modified.tif\n",
      "02162018-1620-202_03_modified.tif\n",
      "02162018-1620-203_03_modified.tif\n",
      "02162018-1620-204_03_modified.tif\n",
      "02162018-1620-205_03_modified.tif\n",
      "02162018-1620-206_03_modified.tif\n",
      "02162018-1620-207_03_modified.tif\n",
      "02162018-1620-208_03_modified.tif\n",
      "02162018-1620-209_03_modified.tif\n",
      "02162018-1620-20_03_modified.tif\n",
      "02162018-1620-210_03_modified.tif\n",
      "02162018-1620-211_03_modified.tif\n",
      "02162018-1620-212_03_modified.tif\n",
      "02162018-1620-213_03_modified.tif\n",
      "02162018-1620-214_03_modified.tif\n",
      "02162018-1620-215_03_modified.tif\n",
      "02162018-1620-216_03_modified.tif\n",
      "02162018-1620-217_03_modified.tif\n",
      "02162018-1620-218_03_modified.tif\n",
      "02162018-1620-219_03_modified.tif\n",
      "02162018-1620-21_03_modified.tif\n",
      "02162018-1620-220_03_modified.tif\n",
      "02162018-1620-221_03_modified.tif\n",
      "02162018-1620-222_03_modified.tif\n",
      "02162018-1620-223_03_modified.tif\n",
      "02162018-1620-224_03_modified.tif\n",
      "02162018-1620-225_03_modified.tif\n",
      "02162018-1620-226_03_modified.tif\n",
      "02162018-1620-227_03_modified.tif\n",
      "02162018-1620-228_03_modified.tif\n",
      "02162018-1620-229_03_modified.tif\n",
      "02162018-1620-22_03_modified.tif\n",
      "02162018-1620-230_03_modified.tif\n",
      "02162018-1620-231_03_modified.tif\n",
      "02162018-1620-232_03_modified.tif\n",
      "02162018-1620-233_03_modified.tif\n",
      "02162018-1620-234_03_modified.tif\n",
      "02162018-1620-235_03_modified.tif\n",
      "02162018-1620-236_03_modified.tif\n",
      "02162018-1620-237_03_modified.tif\n",
      "02162018-1620-238_03_modified.tif\n",
      "02162018-1620-239_03_modified.tif\n",
      "02162018-1620-23_03_modified.tif\n",
      "02162018-1620-240_03_modified.tif\n",
      "02162018-1620-241_03_modified.tif\n",
      "02162018-1620-242_03_modified.tif\n",
      "02162018-1620-243_03_modified.tif\n",
      "02162018-1620-244_03_modified.tif\n",
      "02162018-1620-245_03_modified.tif\n",
      "02162018-1620-246_03_modified.tif\n",
      "02162018-1620-247_03_modified.tif\n",
      "02162018-1620-248_03_modified.tif\n",
      "02162018-1620-249_03_modified.tif\n",
      "02162018-1620-24_03_modified.tif\n",
      "02162018-1620-250_03_modified.tif\n",
      "02162018-1620-251_03_modified.tif\n",
      "02162018-1620-252_03_modified.tif\n",
      "02162018-1620-253_03_modified.tif\n",
      "02162018-1620-254_03_modified.tif\n",
      "02162018-1620-255_03_modified.tif\n",
      "02162018-1620-256_03_modified.tif\n",
      "02162018-1620-257_03_modified.tif\n",
      "02162018-1620-258_03_modified.tif\n",
      "02162018-1620-259_03_modified.tif\n",
      "02162018-1620-25_03_modified.tif\n",
      "02162018-1620-260_03_modified.tif\n",
      "02162018-1620-261_03_modified.tif\n",
      "02162018-1620-262_03_modified.tif\n",
      "02162018-1620-263_03_modified.tif\n",
      "02162018-1620-264_03_modified.tif\n",
      "02162018-1620-265_03_modified.tif\n",
      "02162018-1620-266_03_modified.tif\n",
      "02162018-1620-267_03_modified.tif\n",
      "02162018-1620-268_03_modified.tif\n",
      "02162018-1620-269_03_modified.tif\n",
      "02162018-1620-26_03_modified.tif\n",
      "02162018-1620-270_03_modified.tif\n",
      "02162018-1620-271_03_modified.tif\n",
      "02162018-1620-272_03_modified.tif\n",
      "02162018-1620-273_03_modified.tif\n",
      "02162018-1620-274_03_modified.tif\n",
      "02162018-1620-275_03_modified.tif\n",
      "02162018-1620-276_03_modified.tif\n",
      "02162018-1620-277_03_modified.tif\n",
      "02162018-1620-278_03_modified.tif\n",
      "02162018-1620-279_03_modified.tif\n",
      "02162018-1620-27_03_modified.tif\n"
     ]
    }
   ],
   "source": [
    "def get_date_chars(filename):\n",
    "    return filename[:7]\n",
    "\n",
    "def search_for_date(search_list, search_date):\n",
    "    print('generator started')\n",
    "    for filename in search_list:\n",
    "        filedate = get_date_chars(filename)\n",
    "        yield filename\n",
    "        \n",
    "\n",
    "for search_result in search_for_date(modified_channel_file_names, '02162018'):\n",
    "    print(search_result)"
   ]
  },
  {
   "cell_type": "markdown",
   "metadata": {},
   "source": [
    "# Functions as variables / arguments"
   ]
  },
  {
   "cell_type": "markdown",
   "metadata": {},
   "source": [
    "Use jupyter interact and see how you can pass it your function to see the evolution of your computation as you change the parameters.\n",
    "a) Use interact to make the wheel spin\n",
    "b) Try that with a decorator"
   ]
  },
  {
   "cell_type": "code",
   "execution_count": 12,
   "metadata": {
    "collapsed": true
   },
   "outputs": [],
   "source": [
    "def wheel(x):\n",
    "    symbols = \"|/-\\\\\"\n",
    "    print(symbols[x%4])\n",
    "    "
   ]
  },
  {
   "cell_type": "code",
   "execution_count": 13,
   "metadata": {},
   "outputs": [
    {
     "data": {
      "application/vnd.jupyter.widget-view+json": {
       "model_id": "4864f2042fb24e2b907dd90acc06ba85"
      }
     },
     "metadata": {},
     "output_type": "display_data"
    },
    {
     "data": {
      "text/plain": [
       "<function __main__.wheel>"
      ]
     },
     "execution_count": 13,
     "metadata": {},
     "output_type": "execute_result"
    }
   ],
   "source": [
    "\"\"\"Solution\"\"\"\n",
    "from ipywidgets import interact\n",
    "\n",
    "interact(wheel, x=10)"
   ]
  },
  {
   "cell_type": "markdown",
   "metadata": {},
   "source": [
    "a) Fix the load function below so that it accepts an arbitrary filtering function and its arguments\n",
    "\n",
    "b) Use this load function to build stacks with gaussian, median and scale 0.5 filters"
   ]
  },
  {
   "cell_type": "code",
   "execution_count": 42,
   "metadata": {},
   "outputs": [
    {
     "name": "stdout",
     "output_type": "stream",
     "text": [
      "(10, 1664, 1664)\n"
     ]
    },
    {
     "data": {
      "image/png": "[encoded data removed]",
      "text/plain": [
       "<matplotlib.figure.Figure at 0x7f8507f49dd8>"
      ]
     },
     "metadata": {},
     "output_type": "display_data"
    },
    {
     "name": "stdout",
     "output_type": "stream",
     "text": [
      "(10, 1664, 1664)\n"
     ]
    },
    {
     "data": {
      "image/png": "[encoded data removed]",
      "text/plain": [
       "<matplotlib.figure.Figure at 0x7f850c79ad68>"
      ]
     },
     "metadata": {},
     "output_type": "display_data"
    },
    {
     "data": {
      "image/png": "[encoded data removed]",
      "text/plain": [
       "<matplotlib.figure.Figure at 0x7f850c72eb70>"
      ]
     },
     "metadata": {},
     "output_type": "display_data"
    }
   ],
   "source": [
    "import tifffile.tifffile\n",
    "from natsort import natsorted\n",
    "\n",
    "from matplotlib import pyplot as plt\n",
    "\n",
    "from scipy.ndimage.filters import gaussian_filter\n",
    "from scipy.signal import medfilt\n",
    "from scipy.ndimage.interpolation import zoom\n",
    "\n",
    "def load(image_folder_path, filtering_function=None, *filter_function_params):\n",
    "    files_names = (f for f in os.listdir(image_folder_path) if f.endswith('.tif'))\n",
    "    files_paths = (os.path.abspath(os.path.join(image_folder_path, f)) for f in files_names)\n",
    "\n",
    "    imgs = []\n",
    "    for file_path in natsorted(files_paths)[:10]:  # WARNING: we take only the first 10 for the test to run fast\n",
    "        img = tifffile.imread(file_path)\n",
    "        if filtering_function is not None:\n",
    "            img = filtering_function(img, *filter_function_params)\n",
    "        imgs.append(img)\n",
    "\n",
    "    return np.array(imgs)\n",
    "\n",
    "\n",
    "folder_path = ''  # Amend to folder with tiffs\n",
    "\n",
    "gaussian_stack = load(folder_path, gaussian_filter, 2)\n",
    "print(gaussian_stack.shape)\n",
    "plt.imshow(gaussian_stack.mean(0)); plt.show()\n",
    "median_stack = load(folder_path, medfilt, 3)\n",
    "print(median_stack.shape)\n",
    "plt.imshow(median_stack.mean(0)); plt.show()\n",
    "scaled_stack = load(folder_path, zoom, 0.5)\n",
    "print(scaled_stack.shape)\n",
    "plt.imshow(scaled_stack.mean(0)); plt.show()"
   ]
  },
  {
   "cell_type": "code",
   "execution_count": null,
   "metadata": {
    "collapsed": true
   },
   "outputs": [],
   "source": []
  }
 ],
 "metadata": {
  "kernelspec": {
   "display_name": "Python 3",
   "language": "python",
   "name": "python3"
  },
  "language_info": {
   "codemirror_mode": {
    "name": "ipython",
    "version": 3
   },
   "file_extension": ".py",
   "mimetype": "text/x-python",
   "name": "python",
   "nbconvert_exporter": "python",
   "pygments_lexer": "ipython3",
   "version": "3.6.4"
  }
 },
 "nbformat": 4,
 "nbformat_minor": 2
}
